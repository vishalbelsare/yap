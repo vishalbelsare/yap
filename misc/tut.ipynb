{
 "cells": [
  {
   "cell_type": "markdown",
   "metadata": {},
   "source": [
    "# YAP Jupyter Interface ![yap.ico](attachment:yap.ico)\n",
    "\n",
    "## Walkthrough and User Guide\n",
    "\n",
    "The next cells show examples  of input output interaction with Prolog and Jupyter. We assume basic knowledge of both Prolog and Python/R/Jupyter. "
   ]
  },
  {
   "cell_type": "markdown",
   "metadata": {},
   "source": [
    "Notice that this is experimental software, subject to bugs and change. "
   ]
  },
  {
   "cell_type": "markdown",
   "metadata": {},
   "source": [
    "We assume that \n",
    "  - Cells are of 4 kinds:\n",
    "      - Prolog program cells: these are legal Prolog fragments of code, and terminate in a `.` (possibly followed by blank space)\n",
    "      - Prolog query cells: they do not have a final `.`\n",
    "      - Python sharing cells: they start with a `#!python` and share the same `sys` dictionary as Prolog cells.\n",
    "  - all cells in the same page belong to the same process;\n",
    "  - _magic_ refers to Python annotations:\n",
    "      - '%' magics are on a single line\n",
    "      - '%%' magics cover the whole  cell\n",
    "  - The top=right ball right to the side of `YAP 7` tells the state of the system:\n",
    "      - if empty the system is available;\n",
    "      - if black busy running cell code;\n",
    "      - otherwise, it doing work for the jupyter environment."
   ]
  },
  {
   "cell_type": "markdown",
   "metadata": {},
   "source": [
    "## Basic Usage\n",
    "\n",
    "We start with a query, binding a variabke to a constant."
   ]
  },
  {
   "cell_type": "code",
   "execution_count": 1,
   "metadata": {},
   "outputs": [
    {
     "name": "stderr",
     "output_type": "stream",
     "text": [
      "X=2"
     ]
    }
   ],
   "source": [
    "    X=2                                                                                                   "
   ]
  },
  {
   "cell_type": "markdown",
   "metadata": {},
   "source": [
    "Notice that the cell"
   ]
  },
  {
   "cell_type": "code",
   "execution_count": null,
   "metadata": {},
   "outputs": [],
   "source": [
    "X=f(Y)"
   ]
  },
  {
   "cell_type": "code",
   "execution_count": 3,
   "metadata": {},
   "outputs": [
    {
     "name": "stderr",
     "output_type": "stream",
     "text": [
      "Exception 'Answer' object has no attribute 'port' in squery <yap4py.yapi.Query; proxy of <Swig Object of type 'YAPQuery *' at 0x1063e79c0> >\n",
      "X = \"hello\",\n",
      "Z = ['olá',\"hello\"]"
     ]
    }
   ],
   "source": [
    "f(X,['olá',X]) = f(`hello`,Z)"
   ]
  },
  {
   "cell_type": "markdown",
   "metadata": {},
   "source": [
    "Unification may fail:"
   ]
  },
  {
   "cell_type": "code",
   "execution_count": 4,
   "metadata": {},
   "outputs": [
    {
     "name": "stderr",
     "output_type": "stream",
     "text": [
      "no\n",
      "\n"
     ]
    }
   ],
   "source": [
    "f('olá',[X]) = f(`hello`,Z) "
   ]
  },
  {
   "cell_type": "code",
   "execution_count": 5,
   "metadata": {},
   "outputs": [
    {
     "name": "stderr",
     "output_type": "stream",
     "text": [
      "Exception 'Answer' object has no attribute 'port' in squery <yap4py.yapi.Query; proxy of <Swig Object of type 'YAPQuery *' at 0x1063e7510> >\n",
      "X = Y"
     ]
    }
   ],
   "source": [
    "X=Y"
   ]
  },
  {
   "cell_type": "markdown",
   "metadata": {},
   "source": [
    "You may observe that the first time you press `shift-enter` or `ctl-enter`, YAP/Jupyter writes down `X=2`, the answer. If you press down `shift-enter` again, it writes `No (more) answers`  Pressing again returns you to the first answer, `X=2`:\n",
    "\n",
    "- In YAP/Jupyter cells have a state that depends on how many answers you generated.\n",
    "\n",
    "YAP also allows asking for ll solutions in a single run:"
   ]
  },
  {
   "cell_type": "code",
   "execution_count": 18,
   "metadata": {},
   "outputs": [
    {
     "name": "stderr",
     "output_type": "stream",
     "text": [
      "Exception 'Answer' object has no attribute 'port' in squery <yap4py.yapi.Query; proxy of <Swig Object of type 'YAPQuery *' at 0x1064131e0> >\n",
      "I = J = 1"
     ]
    }
   ],
   "source": [
    "between(1,100,I), J is I^I *\n"
   ]
  },
  {
   "cell_type": "markdown",
   "metadata": {},
   "source": [
    "The YAP  `^` operator generates floating-point numbers for large exponentials. You can try replacing `^` by `**` in the cell: notice that the cell state is reset, as changes in the text of a cell may mean anything. "
   ]
  },
  {
   "cell_type": "code",
   "execution_count": 24,
   "metadata": {},
   "outputs": [
    {
     "name": "stderr",
     "output_type": "stream",
     "text": [
      "Exception 'Answer' object has no attribute 'port' in squery <yap4py.yapi.Query; proxy of <Swig Object of type 'YAPQuery *' at 0x106413a80> >\n",
      "I = 1,\n",
      "IJ = J = 19"
     ]
    }
   ],
   "source": [
    "between(1,20,I), J is 20-I, IJ is I*J *\n"
   ]
  },
  {
   "cell_type": "markdown",
   "metadata": {},
   "source": [
    "\n",
    "NB: in the current version, the states in a page are single-threaded, and only  one cell is active at a rime."
   ]
  },
  {
   "cell_type": "markdown",
   "metadata": {},
   "source": [
    "\n",
    "## Programming with cells\n",
    "\n",
    "Cells can  store programs: that is wahat they do"
   ]
  },
  {
   "cell_type": "markdown",
   "metadata": {},
   "source": [
    "The next cell shows a program to recognise state-checking predicates:"
   ]
  },
  {
   "cell_type": "code",
   "execution_count": null,
   "metadata": {},
   "outputs": [],
   "source": [
    "state_info(Name/Arity) :- \n",
    "    current_predicate(Name/Arity), \n",
    "    atom_concat(current,_,Name).\n",
    "state_info(Name/Arity) :- \n",
    "    system_predicate(Name/Arity),\n",
    " atom_concat(current,_,Name)."
   ]
  },
  {
   "cell_type": "markdown",
   "metadata": {},
   "source": [
    "Now you can query:"
   ]
  },
  {
   "cell_type": "code",
   "execution_count": null,
   "metadata": {},
   "outputs": [],
   "source": [
    " state_info(P)"
   ]
  },
  {
   "cell_type": "markdown",
   "metadata": {},
   "source": [
    "Notice that you need to consult the program cell first. We can just do both in the same cell: "
   ]
  },
  {
   "cell_type": "code",
   "execution_count": null,
   "metadata": {},
   "outputs": [],
   "source": [
    "%%bash\n",
    "\n",
    "ls\n"
   ]
  },
  {
   "cell_type": "markdown",
   "metadata": {},
   "source": [
    "### Magic\n",
    "\n",
    "YAP allows the standard magics, buth with line and cell:\n",
    "\n",
    "- line magics should be the first non-empty line, and must start with `%` followed immediately by the name.\n",
    "\n",
    "- cell magics start with `%%` and must be the only magic in the cell.\n",
    "\n",
    "You can use the completion mechanism to list all magics.\n"
   ]
  },
  {
   "cell_type": "code",
   "execution_count": null,
   "metadata": {},
   "outputs": [],
   "source": [
    ":= print(penguins)"
   ]
  },
  {
   "cell_type": "code",
   "execution_count": null,
   "metadata": {},
   "outputs": [],
   "source": [
    "  penguins.species.to_list(), Y := penguins.body_mass_g.to_list()"
   ]
  },
  {
   "cell_type": "markdown",
   "metadata": {},
   "source": [
    "Last, Prolog can talk to R, so you can get a Python to R bridge"
   ]
  },
  {
   "cell_type": "code",
   "execution_count": null,
   "metadata": {},
   "outputs": [],
   "source": [
    " %(sns.pairplot(penguins, hue= `species`)), plt.show()"
   ]
  },
  {
   "cell_type": "code",
   "execution_count": null,
   "metadata": {},
   "outputs": [],
   "source": [
    ":- [library(real)].\n",
    "\n",
    "\n",
    "X <- c(1:10), x := X"
   ]
  },
  {
   "cell_type": "code",
   "execution_count": null,
   "metadata": {},
   "outputs": [],
   "source": [
    "%matplotlib"
   ]
  },
  {
   "cell_type": "code",
   "execution_count": null,
   "metadata": {},
   "outputs": [],
   "source": [
    ":- python_import( numpy as np ),\n",
    "    python_import( seaborn as sns ),\n",
    "    python_import( matplotlib.pyplot as plt ).\n",
    "\n",
    "\n",
    "    sns.set_theme(style= `dark`),\n",
    "% Simulate data from a bivariate Gaussian\n",
    "N = 10000,\n",
    "Mean = [0, 0],\n",
    "Cov = [t(2, .4), t(.4, .2)],\n",
    "rng := np.random.RandomState(0),\n",
    "t(x, y) :w= rng.multivariate_normal(Mean, Cov, N).'T'.\n",
    "\n",
    "% Draw a combo histogram and scatterplot with density contours\n",
    "t(f, ax) = plt.subplots(figsize=(6, 6)),\n",
    "sns.scatterplot(x=x, y=y, s=5, color= `.15`),\n",
    "sns.histplot(x=x, y=y, bins=50, pthresh=.1, cmap=`mako`),\n",
    "sns.kdeplot(x=x, y=y, levels=5, color= `w` )                                                                                                                                                                                                                                                                                                                                                                                                                                                                                                                                                                                                                                                                                , linewidths=1)./"
   ]
  },
  {
   "cell_type": "code",
   "execution_count": null,
   "metadata": {},
   "outputs": [],
   "source": [
    "sns1"
   ]
  },
  {
   "cell_type": "code",
   "execution_count": null,
   "metadata": {},
   "outputs": [],
   "source": []
  }
 ],
 "metadata": {
  "kernelspec": {
   "display_name": "YAP 7.4.0 (yapkernel)",
   "language": "prolog",
   "name": "yap7"
  },
  "language_info": {
   "codemirror_mode": {
    "name": "prolog",
    "version": 3
   },
   "file_extension": ".yap",
   "mimetype": "text/x-prolog",
   "name": "python",
   "nbconvert_exporter": "python",
   "pygments_lexer": "prolog",
   "version": "3.11.3"
  }
 },
 "nbformat": 4,
 "nbformat_minor": 4
}
